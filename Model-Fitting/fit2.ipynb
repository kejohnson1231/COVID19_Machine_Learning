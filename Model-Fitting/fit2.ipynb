{
 "cells": [
  {
   "cell_type": "code",
   "execution_count": 1,
   "metadata": {},
   "outputs": [
    {
     "name": "stderr",
     "output_type": "stream",
     "text": [
      "/opt/anaconda3/lib/python3.7/site-packages/sklearn/utils/deprecation.py:144: FutureWarning: The sklearn.ensemble.forest module is  deprecated in version 0.22 and will be removed in version 0.24. The corresponding classes / functions should instead be imported from sklearn.ensemble. Anything that cannot be imported from sklearn.ensemble is now part of the private API.\n",
      "  warnings.warn(message, FutureWarning)\n"
     ]
    }
   ],
   "source": [
    "import pandas as pd\n",
    "import numpy as np\n",
    "from rfpimp import *\n",
    "from sklearn.ensemble import RandomForestClassifier, RandomForestRegressor\n",
    "from sklearn.model_selection import cross_val_score, train_test_split, GridSearchCV\n",
    "from sklearn.metrics import confusion_matrix, accuracy_score, mean_squared_error, roc_curve, precision_score, recall_score\n",
    "from sklearn.neighbors import KNeighborsClassifier, KNeighborsRegressor\n",
    "from sklearn.tree import DecisionTreeClassifier, DecisionTreeRegressor\n",
    "from sklearn.linear_model import LogisticRegression, LinearRegression"
   ]
  },
  {
   "cell_type": "code",
   "execution_count": 2,
   "metadata": {},
   "outputs": [],
   "source": [
    "#target_df = pd.read_csv('target.csv')"
   ]
  },
  {
   "cell_type": "code",
   "execution_count": 3,
   "metadata": {},
   "outputs": [],
   "source": [
    "#target_df.sort_values('fips', inplace= True, ignore_index = True)"
   ]
  },
  {
   "cell_type": "code",
   "execution_count": 4,
   "metadata": {},
   "outputs": [],
   "source": [
    "#target_df"
   ]
  },
  {
   "cell_type": "code",
   "execution_count": 5,
   "metadata": {},
   "outputs": [],
   "source": [
    "target1 = pd.read_csv('data/current_target.csv')"
   ]
  },
  {
   "cell_type": "code",
   "execution_count": 6,
   "metadata": {},
   "outputs": [],
   "source": [
    "df = pd.read_csv('data/tues_clean1.csv')"
   ]
  },
  {
   "cell_type": "code",
   "execution_count": 7,
   "metadata": {},
   "outputs": [],
   "source": [
    "df.rename(columns = {'FIPS': 'fips'}, inplace = True)"
   ]
  },
  {
   "cell_type": "code",
   "execution_count": 8,
   "metadata": {},
   "outputs": [],
   "source": [
    "df1 = pd.merge(df, target1, how='left', on = 'fips')"
   ]
  },
  {
   "cell_type": "code",
   "execution_count": 9,
   "metadata": {},
   "outputs": [
    {
     "data": {
      "text/plain": [
       "fips                           0\n",
       "Pop_Dens                       0\n",
       "perc_below_pov                 0\n",
       "perc_disabled                  0\n",
       "perc_minority                  0\n",
       "percent_multiunit_housing      0\n",
       "perc_overcrowded               0\n",
       "perc_no_vehicle                0\n",
       "perc_group_quarters            0\n",
       "perc_fair_poor_health          0\n",
       "perc_smokers                   0\n",
       "perc_obese                     0\n",
       "perc_phys_inactive             0\n",
       "prev_hosp_rate_medicare        0\n",
       "air_pollution                  0\n",
       "unemployed                     0\n",
       "age_adjusted_mortality         0\n",
       "perc_diab                      0\n",
       "perc_insuf_sleep               0\n",
       "health_costs                   0\n",
       "med_house_income               0\n",
       "wnw_seg                        0\n",
       "Population                     0\n",
       "perc_fem                       0\n",
       "perc_rural                     0\n",
       "pcp_rate_100k                  0\n",
       "65_older                       0\n",
       "17_younger                     0\n",
       "uninsured                      0\n",
       "lim_eng                        0\n",
       "date                         248\n",
       "county                       248\n",
       "state                        248\n",
       "cases                        248\n",
       "deaths                       248\n",
       "dtype: int64"
      ]
     },
     "execution_count": 9,
     "metadata": {},
     "output_type": "execute_result"
    }
   ],
   "source": [
    "df1.isnull().sum()"
   ]
  },
  {
   "cell_type": "code",
   "execution_count": 31,
   "metadata": {},
   "outputs": [
    {
     "data": {
      "text/plain": [
       "35"
      ]
     },
     "execution_count": 31,
     "metadata": {},
     "output_type": "execute_result"
    }
   ],
   "source": [
    "len(df1.columns)"
   ]
  },
  {
   "cell_type": "code",
   "execution_count": 10,
   "metadata": {},
   "outputs": [
    {
     "data": {
      "text/html": [
       "<div>\n",
       "<style scoped>\n",
       "    .dataframe tbody tr th:only-of-type {\n",
       "        vertical-align: middle;\n",
       "    }\n",
       "\n",
       "    .dataframe tbody tr th {\n",
       "        vertical-align: top;\n",
       "    }\n",
       "\n",
       "    .dataframe thead th {\n",
       "        text-align: right;\n",
       "    }\n",
       "</style>\n",
       "<table border=\"1\" class=\"dataframe\">\n",
       "  <thead>\n",
       "    <tr style=\"text-align: right;\">\n",
       "      <th></th>\n",
       "      <th>fips</th>\n",
       "      <th>Pop_Dens</th>\n",
       "      <th>perc_below_pov</th>\n",
       "      <th>perc_disabled</th>\n",
       "      <th>perc_minority</th>\n",
       "      <th>percent_multiunit_housing</th>\n",
       "      <th>perc_overcrowded</th>\n",
       "      <th>perc_no_vehicle</th>\n",
       "      <th>perc_group_quarters</th>\n",
       "      <th>perc_fair_poor_health</th>\n",
       "      <th>...</th>\n",
       "      <th>pcp_rate_100k</th>\n",
       "      <th>65_older</th>\n",
       "      <th>17_younger</th>\n",
       "      <th>uninsured</th>\n",
       "      <th>lim_eng</th>\n",
       "      <th>date</th>\n",
       "      <th>county</th>\n",
       "      <th>state</th>\n",
       "      <th>cases</th>\n",
       "      <th>deaths</th>\n",
       "    </tr>\n",
       "  </thead>\n",
       "  <tbody>\n",
       "    <tr>\n",
       "      <th>0</th>\n",
       "      <td>1001</td>\n",
       "      <td>92.859967</td>\n",
       "      <td>15.4</td>\n",
       "      <td>19.3</td>\n",
       "      <td>25.0</td>\n",
       "      <td>3.8</td>\n",
       "      <td>1.4</td>\n",
       "      <td>5.6</td>\n",
       "      <td>1.0</td>\n",
       "      <td>18</td>\n",
       "      <td>...</td>\n",
       "      <td>74.0</td>\n",
       "      <td>14.65</td>\n",
       "      <td>24.30</td>\n",
       "      <td>8.05</td>\n",
       "      <td>0.80</td>\n",
       "      <td>2020-05-14</td>\n",
       "      <td>Autauga</td>\n",
       "      <td>Alabama</td>\n",
       "      <td>104.0</td>\n",
       "      <td>4.0</td>\n",
       "    </tr>\n",
       "    <tr>\n",
       "      <th>1</th>\n",
       "      <td>1003</td>\n",
       "      <td>130.901947</td>\n",
       "      <td>10.6</td>\n",
       "      <td>14.0</td>\n",
       "      <td>17.0</td>\n",
       "      <td>18.3</td>\n",
       "      <td>1.3</td>\n",
       "      <td>3.4</td>\n",
       "      <td>1.4</td>\n",
       "      <td>18</td>\n",
       "      <td>...</td>\n",
       "      <td>117.0</td>\n",
       "      <td>19.60</td>\n",
       "      <td>21.80</td>\n",
       "      <td>11.10</td>\n",
       "      <td>0.65</td>\n",
       "      <td>2020-05-14</td>\n",
       "      <td>Baldwin</td>\n",
       "      <td>Alabama</td>\n",
       "      <td>243.0</td>\n",
       "      <td>8.0</td>\n",
       "    </tr>\n",
       "    <tr>\n",
       "      <th>2</th>\n",
       "      <td>1005</td>\n",
       "      <td>29.132150</td>\n",
       "      <td>28.9</td>\n",
       "      <td>22.2</td>\n",
       "      <td>53.9</td>\n",
       "      <td>1.3</td>\n",
       "      <td>3.4</td>\n",
       "      <td>9.2</td>\n",
       "      <td>11.2</td>\n",
       "      <td>26</td>\n",
       "      <td>...</td>\n",
       "      <td>69.0</td>\n",
       "      <td>18.00</td>\n",
       "      <td>21.10</td>\n",
       "      <td>12.10</td>\n",
       "      <td>1.55</td>\n",
       "      <td>2020-05-14</td>\n",
       "      <td>Barbour</td>\n",
       "      <td>Alabama</td>\n",
       "      <td>74.0</td>\n",
       "      <td>1.0</td>\n",
       "    </tr>\n",
       "    <tr>\n",
       "      <th>3</th>\n",
       "      <td>1007</td>\n",
       "      <td>36.190214</td>\n",
       "      <td>14.0</td>\n",
       "      <td>16.7</td>\n",
       "      <td>25.4</td>\n",
       "      <td>2.4</td>\n",
       "      <td>0.8</td>\n",
       "      <td>6.0</td>\n",
       "      <td>9.3</td>\n",
       "      <td>20</td>\n",
       "      <td>...</td>\n",
       "      <td>128.0</td>\n",
       "      <td>15.85</td>\n",
       "      <td>20.75</td>\n",
       "      <td>9.95</td>\n",
       "      <td>0.35</td>\n",
       "      <td>2020-05-14</td>\n",
       "      <td>Bibb</td>\n",
       "      <td>Alabama</td>\n",
       "      <td>46.0</td>\n",
       "      <td>1.0</td>\n",
       "    </tr>\n",
       "    <tr>\n",
       "      <th>4</th>\n",
       "      <td>1009</td>\n",
       "      <td>89.395591</td>\n",
       "      <td>14.4</td>\n",
       "      <td>14.2</td>\n",
       "      <td>12.9</td>\n",
       "      <td>0.9</td>\n",
       "      <td>1.6</td>\n",
       "      <td>4.2</td>\n",
       "      <td>0.9</td>\n",
       "      <td>21</td>\n",
       "      <td>...</td>\n",
       "      <td>33.0</td>\n",
       "      <td>17.90</td>\n",
       "      <td>23.30</td>\n",
       "      <td>12.50</td>\n",
       "      <td>1.80</td>\n",
       "      <td>2020-05-14</td>\n",
       "      <td>Blount</td>\n",
       "      <td>Alabama</td>\n",
       "      <td>45.0</td>\n",
       "      <td>0.0</td>\n",
       "    </tr>\n",
       "    <tr>\n",
       "      <th>...</th>\n",
       "      <td>...</td>\n",
       "      <td>...</td>\n",
       "      <td>...</td>\n",
       "      <td>...</td>\n",
       "      <td>...</td>\n",
       "      <td>...</td>\n",
       "      <td>...</td>\n",
       "      <td>...</td>\n",
       "      <td>...</td>\n",
       "      <td>...</td>\n",
       "      <td>...</td>\n",
       "      <td>...</td>\n",
       "      <td>...</td>\n",
       "      <td>...</td>\n",
       "      <td>...</td>\n",
       "      <td>...</td>\n",
       "      <td>...</td>\n",
       "      <td>...</td>\n",
       "      <td>...</td>\n",
       "      <td>...</td>\n",
       "      <td>...</td>\n",
       "    </tr>\n",
       "    <tr>\n",
       "      <th>3137</th>\n",
       "      <td>56037</td>\n",
       "      <td>4.231045</td>\n",
       "      <td>12.0</td>\n",
       "      <td>12.3</td>\n",
       "      <td>20.4</td>\n",
       "      <td>5.5</td>\n",
       "      <td>1.9</td>\n",
       "      <td>2.4</td>\n",
       "      <td>1.3</td>\n",
       "      <td>15</td>\n",
       "      <td>...</td>\n",
       "      <td>88.0</td>\n",
       "      <td>10.60</td>\n",
       "      <td>26.85</td>\n",
       "      <td>12.00</td>\n",
       "      <td>1.85</td>\n",
       "      <td>2020-05-14</td>\n",
       "      <td>Sweetwater</td>\n",
       "      <td>Wyoming</td>\n",
       "      <td>21.0</td>\n",
       "      <td>0.0</td>\n",
       "    </tr>\n",
       "    <tr>\n",
       "      <th>3138</th>\n",
       "      <td>56039</td>\n",
       "      <td>5.769301</td>\n",
       "      <td>7.1</td>\n",
       "      <td>7.0</td>\n",
       "      <td>18.4</td>\n",
       "      <td>7.5</td>\n",
       "      <td>7.2</td>\n",
       "      <td>2.4</td>\n",
       "      <td>4.0</td>\n",
       "      <td>12</td>\n",
       "      <td>...</td>\n",
       "      <td>229.0</td>\n",
       "      <td>13.55</td>\n",
       "      <td>19.00</td>\n",
       "      <td>12.50</td>\n",
       "      <td>3.95</td>\n",
       "      <td>2020-05-14</td>\n",
       "      <td>Teton</td>\n",
       "      <td>Wyoming</td>\n",
       "      <td>99.0</td>\n",
       "      <td>1.0</td>\n",
       "    </tr>\n",
       "    <tr>\n",
       "      <th>3139</th>\n",
       "      <td>56041</td>\n",
       "      <td>9.899987</td>\n",
       "      <td>12.5</td>\n",
       "      <td>17.2</td>\n",
       "      <td>12.5</td>\n",
       "      <td>5.8</td>\n",
       "      <td>2.8</td>\n",
       "      <td>3.9</td>\n",
       "      <td>1.3</td>\n",
       "      <td>16</td>\n",
       "      <td>...</td>\n",
       "      <td>106.0</td>\n",
       "      <td>12.35</td>\n",
       "      <td>29.45</td>\n",
       "      <td>12.10</td>\n",
       "      <td>1.00</td>\n",
       "      <td>2020-05-14</td>\n",
       "      <td>Uinta</td>\n",
       "      <td>Wyoming</td>\n",
       "      <td>9.0</td>\n",
       "      <td>0.0</td>\n",
       "    </tr>\n",
       "    <tr>\n",
       "      <th>3140</th>\n",
       "      <td>56043</td>\n",
       "      <td>3.631169</td>\n",
       "      <td>12.4</td>\n",
       "      <td>14.9</td>\n",
       "      <td>18.0</td>\n",
       "      <td>1.1</td>\n",
       "      <td>1.8</td>\n",
       "      <td>5.0</td>\n",
       "      <td>2.0</td>\n",
       "      <td>16</td>\n",
       "      <td>...</td>\n",
       "      <td>97.0</td>\n",
       "      <td>20.80</td>\n",
       "      <td>23.90</td>\n",
       "      <td>16.20</td>\n",
       "      <td>0.50</td>\n",
       "      <td>2020-05-14</td>\n",
       "      <td>Washakie</td>\n",
       "      <td>Wyoming</td>\n",
       "      <td>7.0</td>\n",
       "      <td>0.0</td>\n",
       "    </tr>\n",
       "    <tr>\n",
       "      <th>3141</th>\n",
       "      <td>56045</td>\n",
       "      <td>2.960796</td>\n",
       "      <td>17.4</td>\n",
       "      <td>14.4</td>\n",
       "      <td>8.9</td>\n",
       "      <td>2.6</td>\n",
       "      <td>2.3</td>\n",
       "      <td>2.6</td>\n",
       "      <td>5.1</td>\n",
       "      <td>13</td>\n",
       "      <td>...</td>\n",
       "      <td>110.0</td>\n",
       "      <td>18.80</td>\n",
       "      <td>21.30</td>\n",
       "      <td>13.65</td>\n",
       "      <td>1.00</td>\n",
       "      <td>0</td>\n",
       "      <td>0</td>\n",
       "      <td>0</td>\n",
       "      <td>0.0</td>\n",
       "      <td>0.0</td>\n",
       "    </tr>\n",
       "  </tbody>\n",
       "</table>\n",
       "<p>3142 rows × 35 columns</p>\n",
       "</div>"
      ],
      "text/plain": [
       "       fips    Pop_Dens  perc_below_pov  perc_disabled  perc_minority  \\\n",
       "0      1001   92.859967            15.4           19.3           25.0   \n",
       "1      1003  130.901947            10.6           14.0           17.0   \n",
       "2      1005   29.132150            28.9           22.2           53.9   \n",
       "3      1007   36.190214            14.0           16.7           25.4   \n",
       "4      1009   89.395591            14.4           14.2           12.9   \n",
       "...     ...         ...             ...            ...            ...   \n",
       "3137  56037    4.231045            12.0           12.3           20.4   \n",
       "3138  56039    5.769301             7.1            7.0           18.4   \n",
       "3139  56041    9.899987            12.5           17.2           12.5   \n",
       "3140  56043    3.631169            12.4           14.9           18.0   \n",
       "3141  56045    2.960796            17.4           14.4            8.9   \n",
       "\n",
       "      percent_multiunit_housing  perc_overcrowded  perc_no_vehicle  \\\n",
       "0                           3.8               1.4              5.6   \n",
       "1                          18.3               1.3              3.4   \n",
       "2                           1.3               3.4              9.2   \n",
       "3                           2.4               0.8              6.0   \n",
       "4                           0.9               1.6              4.2   \n",
       "...                         ...               ...              ...   \n",
       "3137                        5.5               1.9              2.4   \n",
       "3138                        7.5               7.2              2.4   \n",
       "3139                        5.8               2.8              3.9   \n",
       "3140                        1.1               1.8              5.0   \n",
       "3141                        2.6               2.3              2.6   \n",
       "\n",
       "      perc_group_quarters  perc_fair_poor_health  ...  pcp_rate_100k  \\\n",
       "0                     1.0                     18  ...           74.0   \n",
       "1                     1.4                     18  ...          117.0   \n",
       "2                    11.2                     26  ...           69.0   \n",
       "3                     9.3                     20  ...          128.0   \n",
       "4                     0.9                     21  ...           33.0   \n",
       "...                   ...                    ...  ...            ...   \n",
       "3137                  1.3                     15  ...           88.0   \n",
       "3138                  4.0                     12  ...          229.0   \n",
       "3139                  1.3                     16  ...          106.0   \n",
       "3140                  2.0                     16  ...           97.0   \n",
       "3141                  5.1                     13  ...          110.0   \n",
       "\n",
       "      65_older  17_younger  uninsured  lim_eng        date      county  \\\n",
       "0        14.65       24.30       8.05     0.80  2020-05-14     Autauga   \n",
       "1        19.60       21.80      11.10     0.65  2020-05-14     Baldwin   \n",
       "2        18.00       21.10      12.10     1.55  2020-05-14     Barbour   \n",
       "3        15.85       20.75       9.95     0.35  2020-05-14        Bibb   \n",
       "4        17.90       23.30      12.50     1.80  2020-05-14      Blount   \n",
       "...        ...         ...        ...      ...         ...         ...   \n",
       "3137     10.60       26.85      12.00     1.85  2020-05-14  Sweetwater   \n",
       "3138     13.55       19.00      12.50     3.95  2020-05-14       Teton   \n",
       "3139     12.35       29.45      12.10     1.00  2020-05-14       Uinta   \n",
       "3140     20.80       23.90      16.20     0.50  2020-05-14    Washakie   \n",
       "3141     18.80       21.30      13.65     1.00           0           0   \n",
       "\n",
       "        state  cases  deaths  \n",
       "0     Alabama  104.0     4.0  \n",
       "1     Alabama  243.0     8.0  \n",
       "2     Alabama   74.0     1.0  \n",
       "3     Alabama   46.0     1.0  \n",
       "4     Alabama   45.0     0.0  \n",
       "...       ...    ...     ...  \n",
       "3137  Wyoming   21.0     0.0  \n",
       "3138  Wyoming   99.0     1.0  \n",
       "3139  Wyoming    9.0     0.0  \n",
       "3140  Wyoming    7.0     0.0  \n",
       "3141        0    0.0     0.0  \n",
       "\n",
       "[3142 rows x 35 columns]"
      ]
     },
     "execution_count": 10,
     "metadata": {},
     "output_type": "execute_result"
    }
   ],
   "source": [
    "df1.fillna(value = 0, inplace = True)\n",
    "\n",
    "df1"
   ]
  },
  {
   "cell_type": "code",
   "execution_count": 11,
   "metadata": {},
   "outputs": [],
   "source": [
    "df1.to_csv('data/socio_health_covid1.csv', index =False)"
   ]
  },
  {
   "cell_type": "code",
   "execution_count": 12,
   "metadata": {},
   "outputs": [],
   "source": [
    "y1df = df1['cases']\n",
    "y1 =y1df.values"
   ]
  },
  {
   "cell_type": "code",
   "execution_count": 13,
   "metadata": {},
   "outputs": [],
   "source": [
    "y2df = (df1['cases']/df1['Population'])\n",
    "y2 = y2df.values"
   ]
  },
  {
   "cell_type": "code",
   "execution_count": 14,
   "metadata": {},
   "outputs": [],
   "source": [
    "y3df = (df1['deaths']/df1['cases'])\n",
    "y3 = y3df.values"
   ]
  },
  {
   "cell_type": "code",
   "execution_count": 15,
   "metadata": {
    "scrolled": true
   },
   "outputs": [
    {
     "data": {
      "text/plain": [
       "248"
      ]
     },
     "execution_count": 15,
     "metadata": {},
     "output_type": "execute_result"
    }
   ],
   "source": [
    "y3df.isnull().sum()"
   ]
  },
  {
   "cell_type": "code",
   "execution_count": 16,
   "metadata": {},
   "outputs": [],
   "source": [
    "y3df.fillna(value=0, inplace = True)"
   ]
  },
  {
   "cell_type": "code",
   "execution_count": 17,
   "metadata": {},
   "outputs": [
    {
     "data": {
      "text/plain": [
       "0"
      ]
     },
     "execution_count": 17,
     "metadata": {},
     "output_type": "execute_result"
    }
   ],
   "source": [
    "y3df.isnull().sum()"
   ]
  },
  {
   "cell_type": "code",
   "execution_count": 18,
   "metadata": {},
   "outputs": [],
   "source": [
    "y = y3df.values\n"
   ]
  },
  {
   "cell_type": "code",
   "execution_count": 19,
   "metadata": {},
   "outputs": [],
   "source": [
    "Xdf = df.drop(columns = ['fips', 'Population'])"
   ]
  },
  {
   "cell_type": "code",
   "execution_count": null,
   "metadata": {},
   "outputs": [],
   "source": []
  },
  {
   "cell_type": "code",
   "execution_count": 20,
   "metadata": {},
   "outputs": [],
   "source": [
    "X = Xdf.values"
   ]
  },
  {
   "cell_type": "code",
   "execution_count": 27,
   "metadata": {},
   "outputs": [
    {
     "data": {
      "text/plain": [
       "Index(['Pop_Dens', 'perc_below_pov', 'perc_disabled', 'perc_minority',\n",
       "       'percent_multiunit_housing', 'perc_overcrowded', 'perc_no_vehicle',\n",
       "       'perc_group_quarters', 'perc_fair_poor_health', 'perc_smokers',\n",
       "       'perc_obese', 'perc_phys_inactive', 'prev_hosp_rate_medicare',\n",
       "       'air_pollution', 'unemployed', 'age_adjusted_mortality', 'perc_diab',\n",
       "       'perc_insuf_sleep', 'health_costs', 'med_house_income', 'wnw_seg',\n",
       "       'perc_fem', 'perc_rural', 'pcp_rate_100k', '65_older', '17_younger',\n",
       "       'uninsured', 'lim_eng'],\n",
       "      dtype='object')"
      ]
     },
     "execution_count": 27,
     "metadata": {},
     "output_type": "execute_result"
    }
   ],
   "source": [
    "Xdf.columns"
   ]
  },
  {
   "cell_type": "markdown",
   "metadata": {},
   "source": [
    "### Predicting Cummulative Cases (raw)"
   ]
  },
  {
   "cell_type": "markdown",
   "metadata": {},
   "source": [
    "X_train1, X_test1, y_train1, y_test1 = train_test_split(Xdf, y1df)"
   ]
  },
  {
   "cell_type": "markdown",
   "metadata": {},
   "source": [
    "rf = RandomForestRegressor()\n",
    "rf.fit(X_train1, y_train1)\n",
    "\n",
    "rf.score(X_test1, y_test1)"
   ]
  },
  {
   "cell_type": "markdown",
   "metadata": {},
   "source": [
    "rf.fit(X_train1, y_train1)\n",
    "\n",
    "feature_scores = pd.Series(rf.feature_importances_, index=Xdf.columns)\n",
    "feature_scores = feature_scores.sort_values()\n",
    "\n",
    "ax = feature_scores.plot(kind='barh', figsize=(12,12))\n",
    "ax.set_title('Average Gini Importance')\n",
    "ax.set_xlabel('Average contribution of information gain')"
   ]
  },
  {
   "cell_type": "markdown",
   "metadata": {},
   "source": [
    "imp = importances(rf, X_test1, y_test1, n_samples=-1)\n",
    "viz = plot_importances(imp)\n",
    "viz.view()"
   ]
  },
  {
   "cell_type": "markdown",
   "metadata": {},
   "source": [
    "lr = LinearRegression()\n",
    "lr.fit(train1, y_train1)\n",
    "\n",
    "lr.score(X_test1, y_test1)"
   ]
  },
  {
   "cell_type": "markdown",
   "metadata": {},
   "source": [
    "### Predicting Cummulative cases per population"
   ]
  },
  {
   "cell_type": "markdown",
   "metadata": {},
   "source": [
    "X_train2, X_test2, y_train2, y_test2 = train_test_split(Xdf, y2df)"
   ]
  },
  {
   "cell_type": "markdown",
   "metadata": {},
   "source": [
    "rf = RandomForestRegressor()\n",
    "rf.fit(X_train2, y_train2)\n",
    "\n",
    "rf.score(X_test2, y_test2)"
   ]
  },
  {
   "cell_type": "markdown",
   "metadata": {},
   "source": [
    "rf.fit(X_train2, y_train2)\n",
    "\n",
    "feature_scores = pd.Series(rf.feature_importances_, index=Xdf.columns)\n",
    "feature_scores = feature_scores.sort_values()\n",
    "\n",
    "ax = feature_scores.plot(kind='barh', figsize=(12,12))\n",
    "ax.set_title('Average Gini Importance')\n",
    "ax.set_xlabel('Average contribution of information gain')"
   ]
  },
  {
   "cell_type": "markdown",
   "metadata": {},
   "source": [
    "imp = importances(rf, X_test2, y_test2, n_samples=-1)\n",
    "viz = plot_importances(imp)\n",
    "viz.view()"
   ]
  },
  {
   "cell_type": "markdown",
   "metadata": {},
   "source": [
    "lr = LinearRegression()\n",
    "lr.fit(X_train2, y_train2)\n",
    "\n",
    "lr.score(X_test2, y_test2)"
   ]
  },
  {
   "cell_type": "markdown",
   "metadata": {},
   "source": [
    "### Predicting Cummulative Deaths rate"
   ]
  },
  {
   "cell_type": "code",
   "execution_count": 22,
   "metadata": {},
   "outputs": [],
   "source": [
    "X_train, X_test, y_train, y_test = train_test_split(X, y)"
   ]
  },
  {
   "cell_type": "code",
   "execution_count": 23,
   "metadata": {},
   "outputs": [
    {
     "data": {
      "text/plain": [
       "-0.12270177590708697"
      ]
     },
     "execution_count": 23,
     "metadata": {},
     "output_type": "execute_result"
    }
   ],
   "source": [
    "rf = RandomForestRegressor()\n",
    "rf.fit(X_train, y_train)\n",
    "y_pred = rf.predict(X_test)\n",
    "rf.score(X_test, y_test)"
   ]
  },
  {
   "cell_type": "code",
   "execution_count": 24,
   "metadata": {},
   "outputs": [
    {
     "name": "stdout",
     "output_type": "stream",
     "text": [
      "Mean Absolute Error: 0.034529352076301936\n",
      "Mean Squared Error: 0.0026683693955235443\n",
      "Root Mean Squared Error: 0.05165626191976675\n"
     ]
    }
   ],
   "source": [
    "from sklearn import metrics\n",
    "\n",
    "print('Mean Absolute Error:', metrics.mean_absolute_error(y_test, y_pred))\n",
    "print('Mean Squared Error:', metrics.mean_squared_error(y_test, y_pred))\n",
    "print('Root Mean Squared Error:', np.sqrt(metrics.mean_squared_error(y_test, y_pred)))"
   ]
  },
  {
   "cell_type": "code",
   "execution_count": 25,
   "metadata": {
    "scrolled": true
   },
   "outputs": [
    {
     "data": {
      "text/plain": [
       "Text(0.5, 0, 'Average contribution of information gain')"
      ]
     },
     "execution_count": 25,
     "metadata": {},
     "output_type": "execute_result"
    },
    {
     "data": {
      "image/png": "[encoded data removed]",
      "text/plain": [
       "<Figure size 864x864 with 1 Axes>"
      ]
     },
     "metadata": {
      "needs_background": "light"
     },
     "output_type": "display_data"
    }
   ],
   "source": [
    "rf.fit(X_train, y_train)\n",
    "\n",
    "feature_scores = pd.Series(rf.feature_importances_, index=Xdf.columns)\n",
    "feature_scores = feature_scores.sort_values()\n",
    "\n",
    "ax = feature_scores.plot(kind='barh', figsize=(12,12))\n",
    "ax.set_title('Average Gini Importance')\n",
    "ax.set_xlabel('Average contribution of information gain')"
   ]
  },
  {
   "cell_type": "code",
   "execution_count": null,
   "metadata": {
    "scrolled": true
   },
   "outputs": [],
   "source": [
    "imp = importances(rf, X_test3, y_test3, n_samples=-1)\n",
    "viz = plot_importances(imp)\n",
    "viz.view()"
   ]
  },
  {
   "cell_type": "code",
   "execution_count": 29,
   "metadata": {},
   "outputs": [
    {
     "data": {
      "text/plain": [
       "0.037099291995547734"
      ]
     },
     "execution_count": 29,
     "metadata": {},
     "output_type": "execute_result"
    }
   ],
   "source": [
    "lr = LinearRegression()\n",
    "lr.fit(X_train, y_train)\n",
    "\n",
    "lr.score(X_test, y_test)"
   ]
  },
  {
   "cell_type": "code",
   "execution_count": null,
   "metadata": {},
   "outputs": [],
   "source": []
  },
  {
   "cell_type": "code",
   "execution_count": null,
   "metadata": {},
   "outputs": [],
   "source": []
  },
  {
   "cell_type": "markdown",
   "metadata": {},
   "source": [
    "# MORE CLEANING"
   ]
  },
  {
   "cell_type": "code",
   "execution_count": null,
   "metadata": {},
   "outputs": [],
   "source": [
    "Xdf.drop(columns = ['perc_group_quarters'], inplace =True)"
   ]
  },
  {
   "cell_type": "code",
   "execution_count": null,
   "metadata": {},
   "outputs": [],
   "source": [
    "Xdf.drop(columns = ['pcp_rate_100k'], inplace =True)"
   ]
  },
  {
   "cell_type": "code",
   "execution_count": 28,
   "metadata": {},
   "outputs": [],
   "source": [
    "Xdf.drop(columns = ['17_younger'], inplace =True)"
   ]
  },
  {
   "cell_type": "code",
   "execution_count": null,
   "metadata": {},
   "outputs": [],
   "source": [
    "Xdf.drop(columns = ['prev_hosp_rate_medicare'], inplace =True)"
   ]
  },
  {
   "cell_type": "code",
   "execution_count": null,
   "metadata": {},
   "outputs": [],
   "source": [
    "Xdf.columns"
   ]
  },
  {
   "cell_type": "code",
   "execution_count": null,
   "metadata": {},
   "outputs": [],
   "source": [
    "X1df = Xdf[['Pop_Dens', 'perc_below_pov', 'perc_disabled', 'perc_minority',\n",
    "       'percent_multiunit_housing', 'perc_overcrowded', 'perc_no_vehicle', 'perc_obese',\n",
    "       'perc_phys_inactive', 'air_pollution', 'unemployed',\n",
    "       'age_adjusted_mortality', 'perc_diab', 'perc_insuf_sleep',\n",
    "       'health_costs', 'med_house_income', 'wnw_seg', 'perc_fem', 'perc_rural',\n",
    "       '65_older', 'uninsured', 'lim_eng']]"
   ]
  },
  {
   "cell_type": "code",
   "execution_count": null,
   "metadata": {},
   "outputs": [],
   "source": [
    "X2df= Xdf[['Pop_Dens', 'perc_below_pov', 'perc_disabled', 'perc_minority',\n",
    "       'percent_multiunit_housing', 'perc_overcrowded', 'perc_no_vehicle',\n",
    "       'perc_fair_poor_health', 'perc_smokers', 'perc_obese',\n",
    "       'perc_phys_inactive', 'air_pollution', 'unemployed',\n",
    "       'age_adjusted_mortality', 'perc_diab', 'perc_insuf_sleep',\n",
    "       'health_costs', 'med_house_income', 'wnw_seg', 'perc_rural',\n",
    "       '65_older', 'uninsured']]"
   ]
  },
  {
   "cell_type": "markdown",
   "metadata": {},
   "source": [
    "# THIRD FIT"
   ]
  },
  {
   "cell_type": "markdown",
   "metadata": {},
   "source": [
    "**import dataframes**"
   ]
  },
  {
   "cell_type": "code",
   "execution_count": null,
   "metadata": {},
   "outputs": [],
   "source": [
    "sociohealth = pd.read_csv('data/sociohealth.csv')"
   ]
  },
  {
   "cell_type": "code",
   "execution_count": null,
   "metadata": {},
   "outputs": [],
   "source": [
    "sociohealth"
   ]
  },
  {
   "cell_type": "code",
   "execution_count": null,
   "metadata": {},
   "outputs": [],
   "source": [
    "deaths_time = pd.read_csv('data/death_time_series.csv')"
   ]
  },
  {
   "cell_type": "code",
   "execution_count": null,
   "metadata": {},
   "outputs": [],
   "source": [
    "deaths_time"
   ]
  },
  {
   "cell_type": "code",
   "execution_count": null,
   "metadata": {},
   "outputs": [],
   "source": [
    "cases_time = pd.read_csv('data/cases_time_series.csv')"
   ]
  },
  {
   "cell_type": "code",
   "execution_count": null,
   "metadata": {},
   "outputs": [],
   "source": [
    "cases_time"
   ]
  },
  {
   "cell_type": "code",
   "execution_count": null,
   "metadata": {},
   "outputs": [],
   "source": [
    "metadata_byday = pd.read_csv('data/metadata_byday.csv')"
   ]
  },
  {
   "cell_type": "code",
   "execution_count": null,
   "metadata": {},
   "outputs": [],
   "source": [
    "metadata_byday"
   ]
  },
  {
   "cell_type": "code",
   "execution_count": null,
   "metadata": {},
   "outputs": [],
   "source": [
    "state_orders = pd.read_csv('data/state_orders.csv')"
   ]
  },
  {
   "cell_type": "code",
   "execution_count": null,
   "metadata": {},
   "outputs": [],
   "source": [
    "state_orders "
   ]
  },
  {
   "cell_type": "code",
   "execution_count": null,
   "metadata": {},
   "outputs": [],
   "source": []
  },
  {
   "cell_type": "code",
   "execution_count": null,
   "metadata": {},
   "outputs": [],
   "source": []
  },
  {
   "cell_type": "code",
   "execution_count": null,
   "metadata": {},
   "outputs": [],
   "source": []
  },
  {
   "cell_type": "code",
   "execution_count": null,
   "metadata": {},
   "outputs": [],
   "source": []
  }
 ],
 "metadata": {
  "kernelspec": {
   "display_name": "Python [conda env:root] *",
   "language": "python",
   "name": "conda-root-py"
  },
  "language_info": {
   "codemirror_mode": {
    "name": "ipython",
    "version": 3
   },
   "file_extension": ".py",
   "mimetype": "text/x-python",
   "name": "python",
   "nbconvert_exporter": "python",
   "pygments_lexer": "ipython3",
   "version": "3.7.7"
  }
 },
 "nbformat": 4,
 "nbformat_minor": 4
}
